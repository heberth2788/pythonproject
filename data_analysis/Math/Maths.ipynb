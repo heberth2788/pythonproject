{
 "cells": [
  {
   "cell_type": "markdown",
   "id": "ae53c4c7",
   "metadata": {},
   "source": [
    "## Basic statistics"
   ]
  },
  {
   "cell_type": "markdown",
   "id": "910b46ad",
   "metadata": {},
   "source": [
    "### Introduction"
   ]
  },
  {
   "cell_type": "markdown",
   "id": "acf9bb5d",
   "metadata": {},
   "source": [
    "<p>La estadística es una <strong>rama de las matemáticas</strong> que te permite <strong>recopilar, organizar y analizar datos</strong> según la necesidad que tengas.</p>\n",
    "<p>Es el arte de <strong>dar sentido a los datos</strong>, proporcionando la teoría y los métodos para extraer información de estos y poder resolver problemas del mundo real.</p>\n",
    "<p>Hay dos tipos de estadísticas: </p>\n",
    "\n",
    "* Estadística Descriptiva\n",
    "* Estadística Inferencial"
   ]
  },
  {
   "cell_type": "markdown",
   "id": "39daeb1e",
   "metadata": {},
   "source": [
    "#### Descriptive statistics"
   ]
  },
  {
   "cell_type": "markdown",
   "id": "adbe1a89",
   "metadata": {},
   "source": [
    "El término estadística descriptiva se refiere al **análisis, el resumen y la presentación** de los resultados relacionados con un conjunto de datos derivados de una muestra o de toda la población.\n",
    "\n",
    "La estadística descriptiva comprende tres categorías principales: distribución de frecuencias, medidas de tendencia central y medidas de variabilidad."
   ]
  },
  {
   "cell_type": "markdown",
   "id": "d3d93974",
   "metadata": {},
   "source": [
    "##### Frequency distribution"
   ]
  },
  {
   "cell_type": "code",
   "execution_count": 18,
   "id": "df279c6d",
   "metadata": {},
   "outputs": [
    {
     "data": {
      "text/html": [
       "<div>\n",
       "<style scoped>\n",
       "    .dataframe tbody tr th:only-of-type {\n",
       "        vertical-align: middle;\n",
       "    }\n",
       "\n",
       "    .dataframe tbody tr th {\n",
       "        vertical-align: top;\n",
       "    }\n",
       "\n",
       "    .dataframe thead th {\n",
       "        text-align: right;\n",
       "    }\n",
       "</style>\n",
       "<table border=\"1\" class=\"dataframe\">\n",
       "  <thead>\n",
       "    <tr style=\"text-align: right;\">\n",
       "      <th></th>\n",
       "      <th>ALUMNO</th>\n",
       "      <th>NOTA</th>\n",
       "    </tr>\n",
       "  </thead>\n",
       "  <tbody>\n",
       "    <tr>\n",
       "      <th>0</th>\n",
       "      <td>A0001</td>\n",
       "      <td>15</td>\n",
       "    </tr>\n",
       "    <tr>\n",
       "      <th>1</th>\n",
       "      <td>A0002</td>\n",
       "      <td>16</td>\n",
       "    </tr>\n",
       "    <tr>\n",
       "      <th>2</th>\n",
       "      <td>A0003</td>\n",
       "      <td>14</td>\n",
       "    </tr>\n",
       "  </tbody>\n",
       "</table>\n",
       "</div>"
      ],
      "text/plain": [
       "  ALUMNO  NOTA\n",
       "0  A0001    15\n",
       "1  A0002    16\n",
       "2  A0003    14"
      ]
     },
     "execution_count": 18,
     "metadata": {},
     "output_type": "execute_result"
    }
   ],
   "source": [
    "import pandas as pd\n",
    "import matplotlib.pyplot as plt\n",
    "\n",
    "math = pd.read_csv(\"./MATEMATICAS.csv\") # pd.read_csv(\"MATEMATICAS.csv\")\n",
    "math.head(3)"
   ]
  },
  {
   "cell_type": "code",
   "execution_count": 15,
   "id": "75f32e55",
   "metadata": {},
   "outputs": [
    {
     "data": {
      "text/plain": [
       "NOTA\n",
       "16    5\n",
       "17    3\n",
       "19    3\n",
       "15    2\n",
       "20    2\n",
       "18    2\n",
       "14    1\n",
       "13    1\n",
       "11    1\n",
       "Name: count, dtype: int64"
      ]
     },
     "execution_count": 15,
     "metadata": {},
     "output_type": "execute_result"
    }
   ],
   "source": [
    "math[\"NOTA\"].value_counts()"
   ]
  },
  {
   "cell_type": "code",
   "execution_count": 31,
   "id": "f1d52cf7",
   "metadata": {},
   "outputs": [
    {
     "data": {
      "image/png": "[encoded data removed]",
      "text/plain": [
       "<Figure size 640x480 with 1 Axes>"
      ]
     },
     "metadata": {},
     "output_type": "display_data"
    }
   ],
   "source": [
    "score = math[\"NOTA\"].tolist()\n",
    "plt.hist(score, edgecolor=\"red\")\n",
    "plt.xlabel(\"Score\")\n",
    "plt.ylabel(\"Frequency\")\n",
    "plt.title(\"Analysis\")\n",
    "plt.show()"
   ]
  },
  {
   "cell_type": "markdown",
   "id": "c310c221",
   "metadata": {},
   "source": [
    "##### Central trent measures"
   ]
  },
  {
   "cell_type": "markdown",
   "id": "11745fa5",
   "metadata": {},
   "source": [
    "* Media or average\n",
    "\n",
    "> Formula :\n",
    "> ![FormulaProm](https://materialeseducativos.org/wp-content/uploads/promedio-aritmetico.jpg)"
   ]
  },
  {
   "cell_type": "code",
   "execution_count": 50,
   "id": "f45cb674",
   "metadata": {},
   "outputs": [
    {
     "data": {
      "text/plain": [
       "16.6"
      ]
     },
     "execution_count": 50,
     "metadata": {},
     "output_type": "execute_result"
    }
   ],
   "source": [
    "media = sum(score)/len(math)\n",
    "media"
   ]
  },
  {
   "cell_type": "code",
   "execution_count": 37,
   "id": "cfc6baea",
   "metadata": {},
   "outputs": [
    {
     "data": {
      "text/plain": [
       "16.6"
      ]
     },
     "execution_count": 37,
     "metadata": {},
     "output_type": "execute_result"
    }
   ],
   "source": [
    "media = math[\"NOTA\"].mean()\n",
    "media"
   ]
  },
  {
   "cell_type": "markdown",
   "id": "0cef8e50",
   "metadata": {},
   "source": [
    "* Median\n",
    "\n",
    ">Es el número intermedio de un grupo de números; es decir, la mitad de los números son superiores a la mediana y la mitad de los números tienen valores menores que la mediana.\n",
    ">\n",
    "> ![FormulaMedian](https://i.ytimg.com/vi/cBMpETOelfg/maxresdefault.jpg)\n"
   ]
  },
  {
   "cell_type": "code",
   "execution_count": 48,
   "id": "660da6df",
   "metadata": {},
   "outputs": [
    {
     "data": {
      "text/plain": [
       "16.5"
      ]
     },
     "execution_count": 48,
     "metadata": {},
     "output_type": "execute_result"
    }
   ],
   "source": [
    "score.sort()\n",
    "mediana = (score[9] + score[10]) / 2 # Manual calculation\n",
    "mediana = math[\"NOTA\"].median() # Automatic calculation by Panda\n",
    "mediana"
   ]
  },
  {
   "cell_type": "markdown",
   "id": "028115df",
   "metadata": {},
   "source": [
    "* Moda"
   ]
  },
  {
   "cell_type": "code",
   "execution_count": 49,
   "id": "46f613a5",
   "metadata": {},
   "outputs": [
    {
     "data": {
      "text/plain": [
       "0    16\n",
       "Name: NOTA, dtype: int64"
      ]
     },
     "execution_count": 49,
     "metadata": {},
     "output_type": "execute_result"
    }
   ],
   "source": [
    "moda = math[\"NOTA\"].mode()\n",
    "moda"
   ]
  },
  {
   "cell_type": "code",
   "execution_count": null,
   "id": "850545c2",
   "metadata": {},
   "outputs": [],
   "source": []
  }
 ],
 "metadata": {
  "kernelspec": {
   "display_name": "Python 3 (ipykernel)",
   "language": "python",
   "name": "python3"
  },
  "language_info": {
   "codemirror_mode": {
    "name": "ipython",
    "version": 3
   },
   "file_extension": ".py",
   "mimetype": "text/x-python",
   "name": "python",
   "nbconvert_exporter": "python",
   "pygments_lexer": "ipython3",
   "version": "3.11.5"
  }
 },
 "nbformat": 4,
 "nbformat_minor": 5
}
